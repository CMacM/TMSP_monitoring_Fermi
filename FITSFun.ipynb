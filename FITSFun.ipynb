{
 "cells": [
  {
   "cell_type": "code",
   "execution_count": 44,
   "metadata": {},
   "outputs": [],
   "source": [
    "import astropy.io.fits\n",
    "import glob\n",
    "from astropy import units\n",
    "from astropy.coordinates import SkyCoord"
   ]
  },
  {
   "cell_type": "markdown",
   "metadata": {},
   "source": [
    "J102347.684+003841.01"
   ]
  },
  {
   "cell_type": "code",
   "execution_count": 42,
   "metadata": {},
   "outputs": [
    {
     "name": "stdout",
     "output_type": "stream",
     "text": [
      "155.945833333 0.644722222222\n"
     ]
    }
   ],
   "source": [
    "c = SkyCoord('10h23m47s', '00d38m41s', frame='icrs')\n",
    "RA = c.ra.deg\n",
    "DEC = c.dec.deg\n",
    "print RA, DEC"
   ]
  },
  {
   "cell_type": "code",
   "execution_count": 45,
   "metadata": {},
   "outputs": [],
   "source": [
    "PSR_J1023 = {'name' : 'J1023', 'model_name' : '4FGL J1023.7+0038', 'xcoord' : 155.946, 'ycoord' : 0.645, 'rec_binsz' : 2000000}\n",
    "\n",
    "XSS_J12270 = {'name' : 'J12270', 'model_name' : '4FGL J1228.0-4853', 'xcoord' : 186.995, 'ycoord' : -48.8952, 'rec_binsz' : 4000000}\n",
    "\n",
    "IGR_J18245 = {'name' : 'J18245', 'model_name' : '4FGL J1824.6-2452', 'xcoord' : 276.135, 'ycoord' : -24.8688, 'rec_binsz' : 12000000}"
   ]
  },
  {
   "cell_type": "code",
   "execution_count": 3,
   "metadata": {},
   "outputs": [],
   "source": [
    "F = astropy.io.fits.open('weekly/photon/lat_photon_weekly_w010_p305_v001.fits')"
   ]
  },
  {
   "cell_type": "code",
   "execution_count": 7,
   "metadata": {},
   "outputs": [
    {
     "name": "stdout",
     "output_type": "stream",
     "text": [
      "Filename: weekly/photon/lat_photon_weekly_w010_p305_v001.fits\n",
      "No.    Name      Ver    Type      Cards   Dimensions   Format\n",
      "  0  PRIMARY       1 PrimaryHDU      31   ()      \n",
      "  1  EVENTS        1 BinTableHDU    202   587025R x 23C   [E, E, E, E, E, E, E, E, E, D, J, J, I, 3I, 32X, 32X, I, D, E, E, E, E, E]   \n",
      "  2  GTI           1 BinTableHDU     46   104R x 2C   [D, D]   \n"
     ]
    }
   ],
   "source": [
    "F.info()"
   ]
  },
  {
   "cell_type": "code",
   "execution_count": 9,
   "metadata": {},
   "outputs": [
    {
     "data": {
      "text/plain": [
       "SIMPLE  =                    T / file does conform to FITS standard             \n",
       "BITPIX  =                    8 / number of bits per data pixel                  \n",
       "NAXIS   =                    0 / number of data axes                            \n",
       "EXTEND  =                    T / FITS dataset may contain extensions            \n",
       "COMMENT   FITS (Flexible Image Transport System) format is defined in 'Astronomy\n",
       "COMMENT   and Astrophysics', volume 376, page 359; bibcode: 2001A&A...376..359H \n",
       "CHECKSUM= 'eipWffmWefmWefmW'   / HDU checksum updated 2018-07-18T20:18:15       \n",
       "TELESCOP= 'GLAST   '           / name of telescope generating data              \n",
       "INSTRUME= 'LAT     '           / name of instrument generating data             \n",
       "EQUINOX =                2000. / equinox for ra and dec                         \n",
       "RADECSYS= 'FK5     '           / world coord. system for this file (FK5 or FK4) \n",
       "DATE    = '2018-07-18T16:18:14' / file creation date (YYYY-MM-DDThh:mm:ss U     \n",
       "DATE-OBS= '2008-08-07T03:35:43.9999' / start date and time of the observation (U\n",
       "DATE-END= '2008-08-14T01:07:29.0000' / end date and time of the observation (UTC\n",
       "TSTART  =           239772945. / mission time of the start of the observation   \n",
       "TSTOP   =           240368850. / mission time of the end of the observation     \n",
       "TIMEUNIT= 's       '           / units for the time related keywords            \n",
       "TIMEZERO=                   0. / clock correction                               \n",
       "TIMESYS = 'TT      '           / type of time system that is used               \n",
       "TIMEREF = 'LOCAL   '           / reference frame used for times                 \n",
       "CLOCKAPP=                    F / whether a clock drift correction has been appli\n",
       "GPS_OUT =                    F / whether GPS time was unavailable at any time du\n",
       "MJDREFI =               51910. / Integer part of MJD corresponding to SC clock s\n",
       "MJDREFF =  0.00074287037037037 / Fractional part of MJD corresponding to SC cloc\n",
       "OBSERVER= 'Peter Michelson'    / GLAST/LAT PI                                   \n",
       "FILENAME= 'lat_photon_weekly_w010_p305_v001.fits' / name of this file           \n",
       "ORIGIN  = 'FSSC    '           / name of organization making file               \n",
       "CREATOR = 'D1Ingest $Name:  $' / software and version creating file             \n",
       "VERSION = '305     '           / release version of the file                    \n",
       "PROC_VER=                  305 / processing version of this file                \n",
       "DATASUM = '         0'         / data unit checksum updated 2017-11-03T19:48:25 "
      ]
     },
     "execution_count": 9,
     "metadata": {},
     "output_type": "execute_result"
    }
   ],
   "source": [
    "F[0].header"
   ]
  },
  {
   "cell_type": "code",
   "execution_count": 10,
   "metadata": {},
   "outputs": [
    {
     "data": {
      "text/plain": [
       "240368850.0"
      ]
     },
     "execution_count": 10,
     "metadata": {},
     "output_type": "execute_result"
    }
   ],
   "source": [
    "F[0].header['TSTOP']"
   ]
  },
  {
   "cell_type": "code",
   "execution_count": 47,
   "metadata": {},
   "outputs": [
    {
     "name": "stdout",
     "output_type": "stream",
     "text": [
      "239557417.0 270002474.0\n"
     ]
    }
   ],
   "source": [
    "spacecraftlist = sorted(glob.glob('/home/b7009348/projects/fermi-data/Weekly_Spacecraft/weekly/spacecraft/*.fits'))\n",
    "\n",
    "with open('spacecraft.txt', 'w') as f:\n",
    "    for i in range(0,len(spacecraftlist)):\n",
    "        f.write(str(spacecraftlist[i]))\n",
    "        f.write('\\n')\n",
    "\n",
    "photonlist = sorted(glob.glob('/home/b7009348/projects/fermi-data/Weekly_Photons/weekly/photon/*.fits'))\n",
    "\n",
    "with open('/home/b7009348/projects/fermi-data/photons.txt', 'w') as f:\n",
    "    for i in range(0,len(photonlist)):\n",
    "        f.write(str(photonlist[i]))\n",
    "        f.write('\\n')\n",
    "        \n",
    "Fstart = astropy.io.fits.open(photonlist[0])        \n",
    "Fend = astropy.io.fits.open(photonlist[-1])\n",
    "\n",
    "start = Fstart[0].header['TSTART']\n",
    "end = Fend[0].header['TSTOP']\n",
    "\n",
    "print start, end "
   ]
  }
 ],
 "metadata": {
  "kernelspec": {
   "display_name": "Python 2",
   "language": "python",
   "name": "python2"
  },
  "language_info": {
   "codemirror_mode": {
    "name": "ipython",
    "version": 2
   },
   "file_extension": ".py",
   "mimetype": "text/x-python",
   "name": "python",
   "nbconvert_exporter": "python",
   "pygments_lexer": "ipython2",
   "version": "2.7.14"
  }
 },
 "nbformat": 4,
 "nbformat_minor": 2
}
