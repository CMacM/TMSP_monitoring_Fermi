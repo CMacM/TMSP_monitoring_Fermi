{
 "cells": [
  {
   "cell_type": "code",
   "execution_count": 44,
   "metadata": {},
   "outputs": [],
   "source": [
    "import astropy.io.fits\n",
    "import glob\n",
    "from astropy import units\n",
    "from astropy.coordinates import SkyCoord"
   ]
  },
  {
   "cell_type": "markdown",
   "metadata": {},
   "source": [
    "J102347.684+003841.01"
   ]
  },
  {
   "cell_type": "code",
   "execution_count": 42,
   "metadata": {},
   "outputs": [
    {
     "name": "stdout",
     "output_type": "stream",
     "text": [
      "155.945833333 0.644722222222\n"
     ]
    }
   ],
   "source": [
    "c = SkyCoord('10h23m47s', '00d38m41s', frame='icrs')\n",
    "RA = c.ra.deg\n",
    "DEC = c.dec.deg\n",
    "print RA, DEC"
   ]
  },
  {
   "cell_type": "code",
   "execution_count": 45,
   "metadata": {},
   "outputs": [],
   "source": [
    "J1023 = {'name' : 'J1023', 'model_name' : '4FGL J1023.7+0038', 'xcoord' : 155.946, 'ycoord' : 0.645, 'rec_binsz' : 2000000}\n",
    "\n",
    "J12270 = {'name' : 'J12270', 'model_name' : '4FGL J1228.0-4853', 'xcoord' : 186.995, 'ycoord' : -48.8952, 'rec_binsz' : 4000000}\n",
    "\n",
    "J18245 = {'name' : 'J18245', 'model_name' : '4FGL J1824.6-2452', 'xcoord' : 276.135, 'ycoord' : -24.8688, 'rec_binsz' : 12000000}"
   ]
  },
  {
   "cell_type": "code",
   "execution_count": 118,
   "metadata": {},
   "outputs": [],
   "source": [
    "F = astropy.io.fits.open('/home/b7009348/projects/fermi-data/Weekly_Spacecraft/weekly/spacecraft/lat_spacecraft_weekly_w513_p202_v001.fits')"
   ]
  },
  {
   "cell_type": "code",
   "execution_count": 109,
   "metadata": {},
   "outputs": [
    {
     "data": {
      "text/plain": [
       "ColDefs(\n",
       "    name = 'START'; format = 'D'; unit = 's'\n",
       "    name = 'STOP'; format = 'D'; unit = 's'\n",
       "    name = 'SC_POSITION'; format = '3E'; unit = 'm'\n",
       "    name = 'LAT_GEO'; format = 'E'; unit = 'deg'\n",
       "    name = 'LON_GEO'; format = 'E'; unit = 'deg'\n",
       "    name = 'RAD_GEO'; format = 'D'; unit = 'm'\n",
       "    name = 'RA_ZENITH'; format = 'E'; unit = 'deg'\n",
       "    name = 'DEC_ZENITH'; format = 'E'; unit = 'deg'\n",
       "    name = 'B_MCILWAIN'; format = 'E'; unit = 'Gauss'\n",
       "    name = 'L_MCILWAIN'; format = 'E'; unit = 'Earth_Radii'\n",
       "    name = 'GEOMAG_LAT'; format = 'E'; unit = 'deg'\n",
       "    name = 'LAMBDA'; format = 'E'; unit = 'deg'\n",
       "    name = 'IN_SAA'; format = 'L'\n",
       "    name = 'RA_SCZ'; format = 'E'; unit = 'deg'\n",
       "    name = 'DEC_SCZ'; format = 'E'; unit = 'deg'\n",
       "    name = 'RA_SCX'; format = 'E'; unit = 'deg'\n",
       "    name = 'DEC_SCX'; format = 'E'; unit = 'deg'\n",
       "    name = 'RA_NPOLE'; format = 'E'; unit = 'deg'\n",
       "    name = 'DEC_NPOLE'; format = 'E'; unit = 'deg'\n",
       "    name = 'ROCK_ANGLE'; format = 'E'; unit = 'deg'\n",
       "    name = 'LAT_MODE'; format = 'J'\n",
       "    name = 'LAT_CONFIG'; format = 'B'\n",
       "    name = 'DATA_QUAL'; format = 'I'\n",
       "    name = 'LIVETIME'; format = 'D'; unit = 's'\n",
       "    name = 'QSJ_1'; format = 'D'\n",
       "    name = 'QSJ_2'; format = 'D'\n",
       "    name = 'QSJ_3'; format = 'D'\n",
       "    name = 'QSJ_4'; format = 'D'\n",
       "    name = 'RA_SUN'; format = 'E'; unit = 'deg'\n",
       "    name = 'DEC_SUN'; format = 'E'; unit = 'deg'\n",
       ")"
      ]
     },
     "execution_count": 109,
     "metadata": {},
     "output_type": "execute_result"
    }
   ],
   "source": [
    "F[1].columns"
   ]
  },
  {
   "cell_type": "code",
   "execution_count": 119,
   "metadata": {},
   "outputs": [
    {
     "name": "stdout",
     "output_type": "stream",
     "text": [
      "(0, array([1, 1, 1, ..., 1, 1, 1], dtype=uint8))\n"
     ]
    }
   ],
   "source": [
    "data = F[1].data\n",
    "print(data['DATA_QUAL'].sum(), data['LAT_CONFIG'])"
   ]
  },
  {
   "cell_type": "code",
   "execution_count": 123,
   "metadata": {},
   "outputs": [],
   "source": [
    "spacecraftlist = sorted(glob.glob('/home/b7009348/projects/fermi-data/Weekly_Spacecraft/weekly/spacecraft/*.fits'))\n",
    "with open('/home/b7009348/projects/spacecraft.txt', 'w') as f:\n",
    "    for i in range(0,len(spacecraftlist)):\n",
    "        F = astropy.io.fits.open(spacecraftlist[i])\n",
    "        data = F[1].data\n",
    "        if not data['DATA_QUAL'].sum() != 0:\n",
    "            f.write(str(spacecraftlist[i]))\n",
    "            f.write('\\n')\n",
    "\n",
    "photonlist = sorted(glob.glob('/home/b7009348/projects/fermi-data/Weekly_Photons/weekly/photon/*.fits'))\n",
    "with open('/home/b7009348/projects/photons.txt', 'w') as f:\n",
    "    for i in range(0,len(photonlist)):\n",
    "        f.write(str(photonlist[i]))\n",
    "        f.write('\\n')   "
   ]
  }
 ],
 "metadata": {
  "kernelspec": {
   "display_name": "Python 2",
   "language": "python",
   "name": "python2"
  },
  "language_info": {
   "codemirror_mode": {
    "name": "ipython",
    "version": 2
   },
   "file_extension": ".py",
   "mimetype": "text/x-python",
   "name": "python",
   "nbconvert_exporter": "python",
   "pygments_lexer": "ipython2",
   "version": "2.7.14"
  }
 },
 "nbformat": 4,
 "nbformat_minor": 2
}
