{
 "cells": [
  {
   "cell_type": "markdown",
   "metadata": {},
   "source": [
    "# Dictionary tests"
   ]
  },
  {
   "cell_type": "code",
   "execution_count": 35,
   "metadata": {},
   "outputs": [
    {
     "name": "stdout",
     "output_type": "stream",
     "text": [
      "This is make4FGLxml version 01r05.\n",
      "The default diffuse model files and names are for pass 8 and 4FGL and assume you have v11r5p3 of the Fermi Science Tools or higher.\n"
     ]
    }
   ],
   "source": [
    "import mkLightCurve"
   ]
  },
  {
   "cell_type": "code",
   "execution_count": 7,
   "metadata": {},
   "outputs": [],
   "source": [
    "J1023 = {'name' : 'J1023', 'model_name' : '4FGL J1023.7+0038', 'xcoord' : 155.946, 'ycoord' : 0.645, 'rec_binsz' : 2000000}\n",
    "\n",
    "J12270 = {'name' : 'J12270', 'model_name' : '4FGL J1228.0-4853', 'xcoord' : 186.995, 'ycoord' : -48.895, 'rec_binsz' : 4000000}\n",
    "\n",
    "J18245 = {'name' : 'J18245', 'model_name' : '4FGL J1824.6-2452', 'xcoord' : 276.135, 'ycoord' : -24.869, 'rec_binsz' : 12000000}"
   ]
  },
  {
   "cell_type": "code",
   "execution_count": 8,
   "metadata": {},
   "outputs": [],
   "source": [
    "def dictionaries(source):\n",
    "    name = source['name']\n",
    "    model_name = source['model_name']\n",
    "    xcoord = source['xcoord']\n",
    "    print name, model_name, xcoord"
   ]
  },
  {
   "cell_type": "code",
   "execution_count": 9,
   "metadata": {},
   "outputs": [
    {
     "name": "stdout",
     "output_type": "stream",
     "text": [
      "J1023 4FGL J1023.7+0038 155.946\n"
     ]
    }
   ],
   "source": [
    "dictionaries(J1023)"
   ]
  },
  {
   "cell_type": "markdown",
   "metadata": {},
   "source": [
    "# Logic for final bin comp"
   ]
  },
  {
   "cell_type": "markdown",
   "metadata": {},
   "source": [
    "if final binsz < rec binsz -> add new data to final bin\n",
    "else final binsz == rec binsz -> create new bin\n",
    "\n",
    "i is an integer list so stop time - final bin < binsz\n",
    "\n",
    "need to adapt to code to compute the new final bin differently \n",
    "\n",
    "read in stop time\n",
    "do stop time - final tmid - binsz/2\n",
    "this gives final binsz\n",
    "run CalcSingleBin for final binsz\n"
   ]
  },
  {
   "cell_type": "code",
   "execution_count": 33,
   "metadata": {},
   "outputs": [
    {
     "name": "stdout",
     "output_type": "stream",
     "text": [
      "9.1\n",
      "5.0\n",
      "15.0\n",
      "25.0\n",
      "35.0\n",
      "45.0\n",
      "55.0\n",
      "65.0\n",
      "75.0\n",
      "85.0\n",
      "1.0\n"
     ]
    }
   ],
   "source": [
    "start = 0.0\n",
    "end = 91.0\n",
    "targetbinsz = 10.0\n",
    "diff = end - start\n",
    "numbins = diff/binsz\n",
    "print numbins\n",
    "\n",
    "for i in range(1,int(numbins+1)):\n",
    "    tmin = start+(i-1)*binsz\n",
    "    tmax = start+i*binsz\n",
    "    tmid = (tmax + tmin)/2\n",
    "    print tmid\n",
    "\n",
    "if end - tmid - binsz/2 != 0.0:\n",
    "    finalbinsz = end - tmid - binsz/2\n",
    "    print finalbinsz\n",
    "else:\n",
    "    print 'Whole # of bins'"
   ]
  },
  {
   "cell_type": "code",
   "execution_count": 39,
   "metadata": {},
   "outputs": [
    {
     "name": "stdout",
     "output_type": "stream",
     "text": [
      "[   0.    1.    2.    3.    4.    5.    6.    7.    8.    9.   10.   11.\n",
      "   12.   13.   14.   15.   16.   17.   18.   19.   20.   21.   22.   23.\n",
      "   24.   25.   26.   27.   28.   29.   30.   31.   32.   33.   34.   35.\n",
      "   36.   37.   38.   39.   40.   41.   42.   43.   44.   45.   46.   47.\n",
      "   48.   49.   50.   51.   52.   53.   54.   55.   56.   57.   58.   59.\n",
      "   60.   61.   62.   63.   64.   65.   66.   67.   68.   69.   70.   71.\n",
      "   72.   73.   74.   75.   76.   77.   78.   79.   80.   81.   82.   83.\n",
      "   84.   85.   86.   87.   88.   89.   90.   91.   92.   93.   94.   95.\n",
      "   96.   97.   98.   99.  100.  101.  102.  103.  104.  105.  106.  107.\n",
      "  108.  109.  110.  111.  112.  113.  114.  115.  116.  117.  118.  119.\n",
      "  120.  121.  122.  123.  124.  125.  126.  127.  128.  129.  130.  131.\n",
      "  132.  133.  134.  135.  136.  137.  138.  139.  140.  141.  142.  143.\n",
      "  144.  145.  146.  147.  148.  149.  150.  151.  152.  153.  154.  155.\n",
      "  156.  157.  158.  159.  160.  161.  162.  163.  164.  165.  166.  167.\n",
      "  168.  169.  170.  171.  172.  173.  174.  175.  176.  177.  178.  179.]\n"
     ]
    }
   ],
   "source": [
    "import numpy as np\n",
    "\n",
    "i_array = np.arange(180.0)\n",
    "print i_array"
   ]
  }
 ],
 "metadata": {
  "kernelspec": {
   "display_name": "Python 2",
   "language": "python",
   "name": "python2"
  },
  "language_info": {
   "codemirror_mode": {
    "name": "ipython",
    "version": 2
   },
   "file_extension": ".py",
   "mimetype": "text/x-python",
   "name": "python",
   "nbconvert_exporter": "python",
   "pygments_lexer": "ipython2",
   "version": "2.7.14"
  }
 },
 "nbformat": 4,
 "nbformat_minor": 2
}
